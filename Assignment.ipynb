{
 "cells": [
  {
   "cell_type": "code",
   "execution_count": 1,
   "id": "3c6ac5aa-8f95-4403-acf6-edbd798ac725",
   "metadata": {},
   "outputs": [],
   "source": [
    "# Q1. Create one variable containing following type of data:\n",
    "# (i) string\n",
    "# (ii) list\n",
    "# (iii) float\n",
    "# (iv) tuple"
   ]
  },
  {
   "cell_type": "code",
   "execution_count": 2,
   "id": "3f24ddc9-18b5-49ff-b221-68bf3c3dd5b4",
   "metadata": {},
   "outputs": [],
   "source": [
    "a=\"ram\"                      #string\n",
    "li=[\"ram\",1,2,3,1.3,True]    #list\n",
    "b=10.2                       #float\n",
    "my_tuple = (1, 2, 3, 4, 5)   #tuple"
   ]
  },
  {
   "cell_type": "code",
   "execution_count": 3,
   "id": "02758995-eff6-4840-a96f-0164bc11cb48",
   "metadata": {},
   "outputs": [
    {
     "data": {
      "text/plain": [
       "'ram'"
      ]
     },
     "execution_count": 3,
     "metadata": {},
     "output_type": "execute_result"
    }
   ],
   "source": [
    "a"
   ]
  },
  {
   "cell_type": "code",
   "execution_count": 4,
   "id": "c74e221a-aa32-4b4f-9963-b86ebc06c94a",
   "metadata": {},
   "outputs": [
    {
     "data": {
      "text/plain": [
       "['ram', 1, 2, 3, 1.3, True]"
      ]
     },
     "execution_count": 4,
     "metadata": {},
     "output_type": "execute_result"
    }
   ],
   "source": [
    "li"
   ]
  },
  {
   "cell_type": "code",
   "execution_count": 5,
   "id": "95716336-d2f5-4b60-9632-551335f74ca3",
   "metadata": {},
   "outputs": [
    {
     "data": {
      "text/plain": [
       "10.2"
      ]
     },
     "execution_count": 5,
     "metadata": {},
     "output_type": "execute_result"
    }
   ],
   "source": [
    "b"
   ]
  },
  {
   "cell_type": "code",
   "execution_count": 6,
   "id": "e68da0db-f6d7-4532-8066-70bb161488f4",
   "metadata": {},
   "outputs": [
    {
     "data": {
      "text/plain": [
       "(1, 2, 3, 4, 5)"
      ]
     },
     "execution_count": 6,
     "metadata": {},
     "output_type": "execute_result"
    }
   ],
   "source": [
    "my_tuple"
   ]
  },
  {
   "cell_type": "code",
   "execution_count": 7,
   "id": "9bf8ca0e-a25d-410f-a69a-1cd14c293826",
   "metadata": {},
   "outputs": [],
   "source": [
    "# Q2. Given are some following variables containing data:\n",
    "# (i) var1 = ‘ ‘\n",
    "# (ii) var2 = ‘[ DS , ML , Python]’\n",
    "# (iii) var3 = [ ‘DS’ , ’ML’ , ‘Python’ ]\n",
    "# (iv) var4 = 1.\n",
    "# What will be the data type of the above given variable.\n"
   ]
  },
  {
   "cell_type": "code",
   "execution_count": 17,
   "id": "eea0ea39-611d-4db1-8000-ee811ba02439",
   "metadata": {},
   "outputs": [
    {
     "data": {
      "text/plain": [
       "str"
      ]
     },
     "execution_count": 17,
     "metadata": {},
     "output_type": "execute_result"
    }
   ],
   "source": [
    "var1 = ' '\n",
    "\n",
    "type(var1)\n"
   ]
  },
  {
   "cell_type": "code",
   "execution_count": 13,
   "id": "58f7eb77-ce47-4766-be42-c81bd4190398",
   "metadata": {},
   "outputs": [],
   "source": [
    "var2 = '[ DS , ML , Python]'"
   ]
  },
  {
   "cell_type": "code",
   "execution_count": 14,
   "id": "e2001516-df06-4e70-8582-298114564307",
   "metadata": {},
   "outputs": [
    {
     "data": {
      "text/plain": [
       "str"
      ]
     },
     "execution_count": 14,
     "metadata": {},
     "output_type": "execute_result"
    }
   ],
   "source": [
    "type(var2)\n"
   ]
  },
  {
   "cell_type": "code",
   "execution_count": 19,
   "id": "33d782e2-f0df-4105-9312-6fcda947a1e5",
   "metadata": {},
   "outputs": [],
   "source": [
    " var3 = [ 'DS' , 'ML' , 'Python' ]"
   ]
  },
  {
   "cell_type": "code",
   "execution_count": 20,
   "id": "c6593de2-382b-4950-b3f6-792b50107aa3",
   "metadata": {},
   "outputs": [
    {
     "data": {
      "text/plain": [
       "list"
      ]
     },
     "execution_count": 20,
     "metadata": {},
     "output_type": "execute_result"
    }
   ],
   "source": [
    "type(var3)"
   ]
  },
  {
   "cell_type": "code",
   "execution_count": 21,
   "id": "f13a92f6-508d-4d0b-81c3-c1ca96fb1243",
   "metadata": {},
   "outputs": [],
   "source": [
    "var4 = 1."
   ]
  },
  {
   "cell_type": "code",
   "execution_count": 22,
   "id": "fb29f899-0369-4177-9577-d598f1727d6b",
   "metadata": {},
   "outputs": [
    {
     "data": {
      "text/plain": [
       "float"
      ]
     },
     "execution_count": 22,
     "metadata": {},
     "output_type": "execute_result"
    }
   ],
   "source": [
    "type(var4)"
   ]
  },
  {
   "cell_type": "code",
   "execution_count": null,
   "id": "a5361b74-777a-4385-804e-6de4b59aff01",
   "metadata": {},
   "outputs": [],
   "source": [
    "\n",
    "# Q3. Explain the use of the following operators using an example:\n",
    "# (i) /\n",
    "# (ii) %\n",
    "# (iii) //\n",
    "# (iv) **"
   ]
  },
  {
   "cell_type": "code",
   "execution_count": 33,
   "id": "1f4e3035-65a2-44ce-87b2-9cdb5c031696",
   "metadata": {},
   "outputs": [
    {
     "name": "stdout",
     "output_type": "stream",
     "text": [
      "3.3333333333333335\n"
     ]
    }
   ],
   "source": [
    "# / (Division Operator):\n",
    "# The division operator / is used to divide one number by another. \n",
    "# for example:\n",
    "result = 10 / 3\n",
    "print(result)"
   ]
  },
  {
   "cell_type": "code",
   "execution_count": 34,
   "id": "ad382a96-81c8-4bd2-8cb0-8b188f7d2e82",
   "metadata": {},
   "outputs": [
    {
     "name": "stdout",
     "output_type": "stream",
     "text": [
      "0\n"
     ]
    }
   ],
   "source": [
    "# % (Modulus Operator):\n",
    "# The modulus operator % returns the remainder of the division of the left operand by the right operand.\n",
    "\n",
    "re=30%10\n",
    "print(re)"
   ]
  },
  {
   "cell_type": "code",
   "execution_count": 35,
   "id": "72fdcfda-3d73-4bfd-91f5-ce230d1d19e8",
   "metadata": {},
   "outputs": [
    {
     "name": "stdout",
     "output_type": "stream",
     "text": [
      "7\n"
     ]
    }
   ],
   "source": [
    "#  // (Floor Division Operator):\n",
    "# The floor division operator // returns the quotient of the division, removing the decimal part (if any). It rounds down to the nearest whole number.\n",
    "res=30//4\n",
    "print(res)\n"
   ]
  },
  {
   "cell_type": "code",
   "execution_count": 36,
   "id": "56951b68-c018-4eb4-b46f-c5c7ef38a91d",
   "metadata": {},
   "outputs": [
    {
     "name": "stdout",
     "output_type": "stream",
     "text": [
      "64\n"
     ]
    }
   ],
   "source": [
    "# ** (Exponentiation Operator):\n",
    "# The exponentiation operator ** is used to raise the left operand to the power of the right operand.\n",
    "ressult1=4**3\n",
    "print(ressult1)"
   ]
  },
  {
   "cell_type": "code",
   "execution_count": 48,
   "id": "eab01d23-51c7-4001-8855-954e75f91983",
   "metadata": {},
   "outputs": [
    {
     "name": "stdout",
     "output_type": "stream",
     "text": [
      "10\n",
      "<class 'int'>\n",
      "hello\n",
      "<class 'str'>\n",
      "3.14\n",
      "<class 'float'>\n",
      "True\n",
      "<class 'bool'>\n",
      "[1, 2, 3]\n",
      "<class 'list'>\n",
      "{'a': 1, 'b': 2}\n",
      "<class 'dict'>\n",
      "(4, 5, 6)\n",
      "<class 'tuple'>\n",
      "None\n",
      "<class 'NoneType'>\n",
      "8.9\n",
      "<class 'float'>\n",
      "False\n",
      "<class 'bool'>\n"
     ]
    }
   ],
   "source": [
    "# Q4. Create a list of length 10 of your choice containing multiple types of data. Using for loop print the\n",
    "# element and its data type.\n",
    "mylist = [10, \"hello\", 3.14, True, [1, 2, 3], {'a': 1, 'b': 2}, (4, 5, 6), None, 8.9, False]\n",
    "for i in mylist:\n",
    "    print(i)\n",
    "    print(type(i))"
   ]
  },
  {
   "cell_type": "code",
   "execution_count": 56,
   "id": "6994dad8-09c7-4959-b121-3be0229c2911",
   "metadata": {},
   "outputs": [
    {
     "name": "stdin",
     "output_type": "stream",
     "text": [
      "Enter the number A:  2\n",
      "Enter the number B:  3\n"
     ]
    },
    {
     "name": "stdout",
     "output_type": "stream",
     "text": [
      "A is not divisible by B\n"
     ]
    }
   ],
   "source": [
    "# Using a while loop, verify if the number A is purely divisible by number B and if so then how many\n",
    "# times it can be divisible.\n",
    "A = int(input(\"Enter the number A: \"))\n",
    "B = int(input(\"Enter the number B: \"))\n",
    "count = 0\n",
    "while A % B == 0:\n",
    "    count += 1\n",
    "A /= B\n",
    "if count > 0:\n",
    "           print(\"A is divisible by B\")\n",
    "else:\n",
    "            print(\"A is not divisible by B\")"
   ]
  },
  {
   "cell_type": "code",
   "execution_count": 59,
   "id": "7ff02170-a61b-41d0-a95d-83a2da3d0001",
   "metadata": {},
   "outputs": [
    {
     "name": "stdout",
     "output_type": "stream",
     "text": [
      "element is not divisible by 3.\n",
      "element is not divisible by 3.\n",
      "element is divisible by 3.\n",
      "element is not divisible by 3.\n",
      "element is not divisible by 3.\n",
      "element is divisible by 3.\n",
      "element is not divisible by 3.\n",
      "element is not divisible by 3.\n",
      "element is divisible by 3.\n",
      "element is not divisible by 3.\n",
      "element is not divisible by 3.\n",
      "element is divisible by 3.\n",
      "element is not divisible by 3.\n",
      "element is not divisible by 3.\n",
      "element is divisible by 3.\n",
      "element is not divisible by 3.\n",
      "element is not divisible by 3.\n",
      "element is divisible by 3.\n",
      "element is not divisible by 3.\n",
      "element is not divisible by 3.\n",
      "element is divisible by 3.\n",
      "element is not divisible by 3.\n",
      "element is not divisible by 3.\n",
      "element is divisible by 3.\n",
      "element is not divisible by 3.\n"
     ]
    }
   ],
   "source": [
    "# Create a list containing 25 int type data. Using for loop and if-else condition print if the element is\n",
    "# divisible by 3 or not.\n",
    "my_list = [i for i in range(1, 26)]\n",
    "for element in my_list:\n",
    "    if element % 3 == 0:\n",
    "        print(\"element is divisible by 3.\")\n",
    "    else:\n",
    "        print(\"element is not divisible by 3.\")"
   ]
  },
  {
   "cell_type": "code",
   "execution_count": 61,
   "id": "530c131c-e1ef-455b-adc9-5c1039f45dea",
   "metadata": {},
   "outputs": [
    {
     "name": "stdout",
     "output_type": "stream",
     "text": [
      "Original list: [1, 2, 3]\n",
      "Modified list: [100, 2, 3]\n"
     ]
    }
   ],
   "source": [
    "# Q7. What do you understand about mutable and immutable data types? Give examples for both showing\n",
    "# this property.\n",
    "# Mutable Data Types: Mutable data types allow modifications after creation. \n",
    "# This means you can change the value or content of the object without changing its identity.\n",
    "# Examples of mutable data types in Python include lists, dictionaries, and sets.\n",
    "my_list = [1, 2, 3]\n",
    "print(\"Original list:\", my_list)\n",
    "my_list[0] = 100\n",
    "print(\"Modified list:\", my_list)"
   ]
  },
  {
   "cell_type": "code",
   "execution_count": 66,
   "id": "07b06adb-c26a-4f9b-87cf-c62e08fd532e",
   "metadata": {},
   "outputs": [
    {
     "name": "stdout",
     "output_type": "stream",
     "text": [
      "Original tuple: (1, 2, 3)\n",
      "Error: 'tuple' object does not support item assignment\n"
     ]
    }
   ],
   "source": [
    "# Immutable Data Types: Immutable data types, on the other hand, do not allow modifications after creation. \n",
    "# If you need to change the value of an immutable object, you need to create a new object with the desired value.\n",
    "# Examples of immutable data types in Python include integers, floats, strings, tuples, and frozensets.\n",
    "my_tuple = (1, 2, 3)\n",
    "print(\"Original tuple:\", my_tuple)\n",
    "try:\n",
    "    my_tuple[0] = 100\n",
    "except TypeError as e:\n",
    "    print(\"Error:\", e) "
   ]
  },
  {
   "cell_type": "code",
   "execution_count": null,
   "id": "f97e8ee6-c88a-48df-98e5-0c21550f4800",
   "metadata": {},
   "outputs": [],
   "source": []
  }
 ],
 "metadata": {
  "kernelspec": {
   "display_name": "Python 3 (ipykernel)",
   "language": "python",
   "name": "python3"
  },
  "language_info": {
   "codemirror_mode": {
    "name": "ipython",
    "version": 3
   },
   "file_extension": ".py",
   "mimetype": "text/x-python",
   "name": "python",
   "nbconvert_exporter": "python",
   "pygments_lexer": "ipython3",
   "version": "3.10.8"
  }
 },
 "nbformat": 4,
 "nbformat_minor": 5
}
