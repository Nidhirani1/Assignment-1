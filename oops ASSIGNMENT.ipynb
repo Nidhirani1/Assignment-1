{
 "cells": [
  {
   "cell_type": "code",
   "execution_count": 21,
   "id": "c7c11936-9100-42a0-a857-e1a1908ef290",
   "metadata": {},
   "outputs": [],
   "source": [
    "class Vehicle:\n",
    "    def __init__(self, name_of_vehicle, max_speed, average_of_vehicle):\n",
    "        self.__name_of_vehicle = name_of_vehicle\n",
    "        self.__max_speed = max_speed\n",
    "        self.__average_of_vehicle = average_of_vehicle\n",
    "\n",
    "    "
   ]
  },
  {
   "cell_type": "code",
   "execution_count": 22,
   "id": "918f4260-4522-4132-bde5-51e8b498f856",
   "metadata": {},
   "outputs": [],
   "source": [
    "e=Vehicle(1,2,5)"
   ]
  },
  {
   "cell_type": "code",
   "execution_count": 23,
   "id": "8dee0cd9-3fb6-4871-8ef2-c084db618d47",
   "metadata": {},
   "outputs": [
    {
     "data": {
      "text/plain": [
       "2"
      ]
     },
     "execution_count": 23,
     "metadata": {},
     "output_type": "execute_result"
    }
   ],
   "source": [
    "e._Vehicle__max_speed"
   ]
  },
  {
   "cell_type": "code",
   "execution_count": 87,
   "id": "43a68d7a-a5b6-424e-a007-a4baa7b82c8d",
   "metadata": {},
   "outputs": [],
   "source": [
    "class Vehicle:\n",
    "    def __init__(self, name_of_vehicle, max_speed, average_of_vehicle):\n",
    "        self.name_of_vehicle = name_of_vehicle\n",
    "        self.max_speed = max_speed\n",
    "        self.average_of_vehicle = average_of_vehicle\n",
    "\n",
    "    def __str__(self):\n",
    "        return f\"Vehicle(Name: {self.name_of_vehicle}, Max Speed: {self.max_speed} km/h, Average: {self.average_of_vehicle} km/l)\"\n",
    "\n",
    "class Car(Vehicle):\n",
    "    def seating_capacity(self, capacity):\n",
    "        return f\"{self.name_of_vehicle} has a seating capacity of {capacity} persons.\"\n",
    "\n",
    "\n",
    "     \n",
    "    "
   ]
  },
  {
   "cell_type": "code",
   "execution_count": 88,
   "id": "ed733a1e-9c34-4d94-ab59-908a3dea6bbf",
   "metadata": {},
   "outputs": [
    {
     "name": "stdout",
     "output_type": "stream",
     "text": [
      "Honda Civic has a seating capacity of 5 persons.\n"
     ]
    }
   ],
   "source": [
    "# # Example usage:\n",
    "car1 = Car(\"Honda Civic\", 200, 12)\n",
    "print(car1.seating_capacity(5))\n"
   ]
  },
  {
   "cell_type": "code",
   "execution_count": 89,
   "id": "b96a7b7e-ceb9-4b27-83f2-e22a5b794610",
   "metadata": {},
   "outputs": [],
   "source": [
    "# Q3. What is multiple inheritance? Write a python code to demonstrate multiple inheritance."
   ]
  },
  {
   "cell_type": "code",
   "execution_count": 90,
   "id": "0618a32b-d47d-4a54-94ab-10c7832b6d58",
   "metadata": {},
   "outputs": [],
   "source": [
    "# Base class 1\n",
    "class Engine:\n",
    "    def __init__(self, horsepower):\n",
    "        self.horsepower = horsepower\n",
    "\n",
    "    def start_engine(self):\n",
    "        return f\"Engine with {self.horsepower} HP started.\"\n",
    "\n",
    "# Base class 2\n",
    "class Wheels:\n",
    "    def __init__(self, num_wheels):\n",
    "        self.num_wheels = num_wheels\n",
    "\n",
    "    def wheel_info(self):\n",
    "        return f\"Vehicle has {self.num_wheels} wheels.\"\n",
    "\n",
    "# Derived class with multiple inheritance\n",
    "class Car(Engine, Wheels):\n",
    "    def __init__(self, name_of_vehicle, max_speed, average_of_vehicle, horsepower, num_wheels):\n",
    "        Vehicle.__init__(self, name_of_vehicle, max_speed, average_of_vehicle)\n",
    "        Engine.__init__(self, horsepower)\n",
    "        Wheels.__init__(self, num_wheels)\n",
    "\n",
    "    def car_info(self):\n",
    "        return f\"{self.name_of_vehicle} | Max Speed: {self.max_speed} km/h | Average: {self.average_of_vehicle} km/l | Horsepower: {self.horsepower} HP | Wheels: {self.num_wheels}\"\n",
    "\n",
    "\n"
   ]
  },
  {
   "cell_type": "code",
   "execution_count": 91,
   "id": "66083a16-a29c-486d-81c6-7b2ebdfbea96",
   "metadata": {},
   "outputs": [
    {
     "name": "stdout",
     "output_type": "stream",
     "text": [
      "Engine with 250 HP started.\n",
      "Vehicle has 4 wheels.\n",
      "Audi A4 | Max Speed: 240 km/h | Average: 10 km/l | Horsepower: 250 HP | Wheels: 4\n"
     ]
    }
   ],
   "source": [
    "# Example usage\n",
    "car1 = Car(\"Audi A4\", 240, 10, 250, 4)\n",
    "print(car1.start_engine())\n",
    "print(car1.wheel_info())\n",
    "print(car1.car_info())"
   ]
  },
  {
   "cell_type": "code",
   "execution_count": 92,
   "id": "8be99f7d-64ab-4d2e-acee-7a5987ac797c",
   "metadata": {},
   "outputs": [],
   "source": [
    "# Q4. What are getter and setter in python? Create a class and create a getter and a setter method in this\n",
    "# class."
   ]
  },
  {
   "cell_type": "code",
   "execution_count": 93,
   "id": "cd8e852e-cef4-4266-ad76-7d2fe73e52de",
   "metadata": {},
   "outputs": [],
   "source": [
    "class Student:\n",
    "    def __init__(self, name, age):\n",
    "        self._name = name  # Note the single underscore, indicating a protected attribute\n",
    "        self._age = age\n",
    "\n",
    "    # Getter\n",
    "    @property\n",
    "    def name(self):\n",
    "        return self._name\n",
    "\n",
    "    \n",
    "    @name.setter\n",
    "    def name(self, value):\n",
    "        if not value:\n",
    "            raise ValueError(\"Name cannot be empty\")\n",
    "        self._name = value\n",
    "\n",
    "    \n",
    "    @property\n",
    "    def age(self):\n",
    "        return self._age\n",
    "\n",
    "    \n",
    "    @age.setter\n",
    "    def age(self, value):\n",
    "        if value < 0:\n",
    "            raise ValueError(\"Age cannot be negative\")\n",
    "        self._age = value\n",
    "\n"
   ]
  },
  {
   "cell_type": "code",
   "execution_count": 94,
   "id": "f88a3cf4-ba76-4920-8a36-efb2777fc552",
   "metadata": {},
   "outputs": [
    {
     "name": "stdout",
     "output_type": "stream",
     "text": [
      "John Doe\n",
      "20\n",
      "Jane Doe\n",
      "22\n",
      "Age cannot be negative\n",
      "Name cannot be empty\n"
     ]
    }
   ],
   "source": [
    "# Example usage:\n",
    "student1 = Student(\"John Doe\", 20)\n",
    "\n",
    "\n",
    "print(student1.name) \n",
    "print(student1.age)   \n",
    "\n",
    "\n",
    "student1.name = \"Jane Doe\"\n",
    "student1.age = 22\n",
    "\n",
    "print(student1.name)  \n",
    "print(student1.age)   \n",
    "\n",
    "\n",
    "try:\n",
    "    student1.age = -5  \n",
    "except ValueError as e:\n",
    "    print(e)  \n",
    "\n",
    "try:\n",
    "    student1.name = \"\"  \n",
    "except ValueError as e:\n",
    "    print(e)  \n"
   ]
  },
  {
   "cell_type": "code",
   "execution_count": 95,
   "id": "ff381fab-7492-4853-864b-6290de257a6a",
   "metadata": {},
   "outputs": [],
   "source": [
    "# Q5.What is method overriding in python? Write a python code to demonstrate method overriding."
   ]
  },
  {
   "cell_type": "code",
   "execution_count": 96,
   "id": "1170bcc0-c506-4a8b-81a7-0f00e81250a2",
   "metadata": {},
   "outputs": [],
   "source": [
    "class Animal:\n",
    "    def sound(self):\n",
    "        return \"Some generic animal sound\"\n",
    "\n",
    "class Dog(Animal):\n",
    "    def sound(self):\n",
    "        return \"Bark\"\n",
    "\n",
    "class Cat(Animal):\n",
    "    def sound(self):\n",
    "        return \"Meow\"\n",
    "\n",
    "\n"
   ]
  },
  {
   "cell_type": "code",
   "execution_count": 97,
   "id": "a5bde536-6597-4368-b2a1-c6acd6f4f4fe",
   "metadata": {},
   "outputs": [
    {
     "name": "stdout",
     "output_type": "stream",
     "text": [
      "Bark\n",
      "Meow\n"
     ]
    }
   ],
   "source": [
    " #Example usage\n",
    "generic_animal = Animal()\n",
    "dog = Dog()\n",
    "cat = Cat()\n",
    "print(dog.sound())             \n",
    "print(cat.sound())             "
   ]
  },
  {
   "cell_type": "code",
   "execution_count": null,
   "id": "897bb7c0-d112-4ab1-9e66-cb984921a215",
   "metadata": {},
   "outputs": [],
   "source": []
  }
 ],
 "metadata": {
  "kernelspec": {
   "display_name": "Python 3 (ipykernel)",
   "language": "python",
   "name": "python3"
  },
  "language_info": {
   "codemirror_mode": {
    "name": "ipython",
    "version": 3
   },
   "file_extension": ".py",
   "mimetype": "text/x-python",
   "name": "python",
   "nbconvert_exporter": "python",
   "pygments_lexer": "ipython3",
   "version": "3.10.8"
  }
 },
 "nbformat": 4,
 "nbformat_minor": 5
}
