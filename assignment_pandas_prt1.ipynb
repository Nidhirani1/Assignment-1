{
 "cells": [
  {
   "cell_type": "code",
   "execution_count": null,
   "metadata": {},
   "outputs": [],
   "source": [
    "# Q1. Create a Pandas Series that contains the following data: 4, 8, 15, 16, 23, and 42. Then, print the series.\n",
    "# import pandas as pd\n",
    "\n",
    "# # Creating a Pandas Series with the given data\n",
    "# data = [4, 8, 15, 16, 23, 42]\n",
    "# series = pd.Series(data)\n",
    "\n",
    "# series \\\\for printing\n"
   ]
  },
  {
   "cell_type": "code",
   "execution_count": null,
   "metadata": {},
   "outputs": [
    {
     "data": {
      "text/plain": [
       "0     4\n",
       "1     8\n",
       "2    15\n",
       "3    16\n",
       "4    23\n",
       "5    42\n",
       "dtype: int64"
      ]
     },
     "execution_count": 3,
     "metadata": {},
     "output_type": "execute_result"
    }
   ],
   "source": []
  },
  {
   "cell_type": "code",
   "execution_count": 8,
   "metadata": {},
   "outputs": [],
   "source": [
    "# # Q2. Create a variable of list type containing 10 elements in it, and apply pandas.Series function on the\n",
    "# # variable print it.\n",
    "# import pandas as pd\n",
    "\n",
    "# # Creating a list with 10 elements\n",
    "# data_list = [10, 20, 30, 40, 50, 60, 70, 80, 90, 100]\n",
    "\n",
    "# # Applying pandas.Series function on the list\n",
    "# series_from_list = pd.Series(data_list)\n",
    "\n",
    "# # Printing the series\n",
    "# print(series_from_list)\n"
   ]
  },
  {
   "cell_type": "code",
   "execution_count": 9,
   "metadata": {},
   "outputs": [],
   "source": [
    "# Q3. Create a Pandas DataFrame that contains the following data:\n",
    "df={'Name':['Alice','Bob','Claire'],\n",
    "    'Age':['25','30','27'],\n",
    "    'Gender':['Female','Male','Female']\n",
    "\n",
    "}"
   ]
  },
  {
   "cell_type": "code",
   "execution_count": 18,
   "metadata": {},
   "outputs": [],
   "source": [
    "# df"
   ]
  },
  {
   "cell_type": "code",
   "execution_count": 19,
   "metadata": {},
   "outputs": [],
   "source": [
    "# import pandas as ps\n",
    "# ps.DataFrame(df)"
   ]
  },
  {
   "cell_type": "code",
   "execution_count": 20,
   "metadata": {},
   "outputs": [],
   "source": [
    "# # Q4. What is ‘DataFrame’ in pandas and how is it different from pandas.series? Explain with an example.\n",
    "# import pandas as pd\n",
    "\n",
    "# # Series example\n",
    "# series = pd.Series([1, 2, 3, 4])\n",
    "\n",
    "\n",
    "# # DataFrame example\n",
    "# data = {\n",
    "#     'A': [1, 2, 3],\n",
    "#     'B': [4, 5, 6],\n",
    "# }\n",
    "# df = pd.DataFrame(data)\n",
    "\n",
    "# print(\"Series:\")\n",
    "# print(series)\n",
    "# print(\"\\nDataFrame:\")\n",
    "# print(df)\n"
   ]
  },
  {
   "cell_type": "code",
   "execution_count": 21,
   "metadata": {},
   "outputs": [],
   "source": [
    "# # Q5. What are some common functions you can use to manipulate data in a Pandas DataFrame? Can you give an example of when you might use one of these functions?\n",
    "# Common functions to manipulate data in a Pandas DataFrame include:\n",
    "\n",
    "# .head() - To view the first few rows of the DataFrame.\n",
    "# Example: df.head(3) will return the first 3 rows.\n",
    "# .tail() - To view the last few rows.\n",
    "# Example: df.tail(3) will return the last 3 rows.\n",
    "# .drop() - To drop rows or columns.\n",
    "# Example: df.drop('A', axis=1) will remove column 'A'.\n",
    "# .loc[] and .iloc[] - To access rows and columns by labels (.loc[]) or index positions (.iloc[]).\n",
    "# Example: df.loc[0, 'A'] will give you the value at row 0, column 'A'.\n",
    "# .groupby() - To group the data by some criteria (e.g., by column values).\n",
    "# Example: df.groupby('A').sum() will group by column 'A' and sum the values in other columns.\n",
    "# Example using .drop():\n",
    "\n",
    "\n",
    "# # Dropping a column from the DataFrame\n",
    "# df = pd.DataFrame({\n",
    "#     'A': [1, 2, 3],\n",
    "#     'B': [4, 5, 6],\n",
    "#     'C': [7, 8, 9]\n",
    "# })\n",
    "# df = df.drop('B', axis=1)  # Drop column 'B'\n",
    "# print(df)"
   ]
  },
  {
   "cell_type": "code",
   "execution_count": 22,
   "metadata": {},
   "outputs": [],
   "source": [
    "# Q6. Which of the following is mutable in nature: Series, DataFrame, Panel?\n",
    "# Both Series and DataFrame are mutable in nature. You can modify their data by adding, deleting, or updating elements.\n",
    "\n",
    "# However, Panel (which is deprecated as of pandas version 1.0.0) is also mutable, but it is rarely used, as 3D data structures (Panel) are being replaced by multi-index DataFrames."
   ]
  },
  {
   "cell_type": "code",
   "execution_count": null,
   "metadata": {},
   "outputs": [
    {
     "ename": "SyntaxError",
     "evalue": "invalid syntax (17250360.py, line 1)",
     "output_type": "error",
     "traceback": [
      "\u001b[1;36m  Cell \u001b[1;32mIn[23], line 1\u001b[1;36m\u001b[0m\n\u001b[1;33m    Q7. Create a DataFrame using multiple Series. Explain with an example.\u001b[0m\n\u001b[1;37m               ^\u001b[0m\n\u001b[1;31mSyntaxError\u001b[0m\u001b[1;31m:\u001b[0m invalid syntax\n"
     ]
    }
   ],
   "source": [
    "# Q7. Create a DataFrame using multiple Series. Explain with an example.\n",
    "# To create a DataFrame using multiple Series, you can combine them into a dictionary and then pass the dictionary to pd.DataFrame().\n",
    "\n",
    "# Example:\n",
    "\n",
    "\n",
    "# import pandas as pd\n",
    "\n",
    "# # Creating Series\n",
    "# s1 = pd.Series([1, 2, 3], name='A')\n",
    "# s2 = pd.Series([4, 5, 6], name='B')\n",
    "\n",
    "# # Creating a DataFrame from multiple Series\n",
    "# df = pd.DataFrame({'A': s1, 'B': s2})\n",
    "\n",
    "# print(df)\n"
   ]
  },
  {
   "cell_type": "code",
   "execution_count": null,
   "metadata": {},
   "outputs": [],
   "source": []
  }
 ],
 "metadata": {
  "kernelspec": {
   "display_name": "Python 3",
   "language": "python",
   "name": "python3"
  },
  "language_info": {
   "codemirror_mode": {
    "name": "ipython",
    "version": 3
   },
   "file_extension": ".py",
   "mimetype": "text/x-python",
   "name": "python",
   "nbconvert_exporter": "python",
   "pygments_lexer": "ipython3",
   "version": "3.12.1"
  }
 },
 "nbformat": 4,
 "nbformat_minor": 2
}
