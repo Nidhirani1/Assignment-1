{
 "cells": [
  {
   "cell_type": "code",
   "execution_count": 17,
   "id": "b11b000d-f9f6-40ea-aa42-c023af4ad27a",
   "metadata": {},
   "outputs": [],
   "source": [
    "# Q1. Which keyword is used to create a function? Create a function to return a list of odd numbers in the\n",
    "# range of 1 to 25.\n",
    "# Ans:-\n",
    "# In Python, the def keyword is used to define a function.\n",
    "a=range(26)"
   ]
  },
  {
   "cell_type": "code",
   "execution_count": 20,
   "id": "78ed1721-7dcf-4b6b-9208-eb784a4dadb3",
   "metadata": {},
   "outputs": [
    {
     "data": {
      "text/plain": [
       "[1, 3, 5, 7, 9, 11, 13, 15, 17, 19, 21, 23, 25]"
      ]
     },
     "execution_count": 20,
     "metadata": {},
     "output_type": "execute_result"
    }
   ],
   "source": [
    "list(filter(lambda x:x%2!=0,a))"
   ]
  },
  {
   "cell_type": "code",
   "execution_count": 21,
   "id": "3c0ba942-e68e-4763-8e20-060ff9624e94",
   "metadata": {},
   "outputs": [],
   "source": [
    "# Q2. Why *args and **kwargs is used in some functions? Create a function each for *args and **kwargs\n",
    "# to demonstrate their use.\n",
    "# Ans:-*args and **kwargs are used in Python functions to handle variable numbers of arguments.\n",
    "\n",
    "# *args allows you to pass a variable number of positional arguments to a function. \n",
    "# It collects these arguments into a tuple within the function.\n",
    "# **kwargs allows you to pass a variable number of keyword arguments (i.e., arguments preceded by identifiers) \n",
    "# to a function. \n",
    "# It collects these arguments into a dictionary within the function.\n",
    "\n",
    "\n",
    "\n",
    "# # Function using *args\n",
    "# def sum_args(*args):\n",
    "#     total = 0\n",
    "#     for arg in args:\n",
    "#         total += arg\n",
    "#     return total\n",
    "\n",
    "# # Function using **kwargs\n",
    "# def print_kwargs(**kwargs):\n",
    "#     for key, value in kwargs.items():\n",
    "#         print(f\"{key}: {value}\")\n",
    "\n",
    "# # Example usage\n",
    "# print(\"Sum of numbers:\", sum_args(1, 2, 3, 4, 5))  # Output: 15\n",
    "\n",
    "# print_kwargs(name=\"Alice\", age=30, city=\"Wonderland\")\n",
    "# # Output:\n",
    "# # name: Alice\n",
    "# # age: 30\n",
    "# # city: Wonderland\n"
   ]
  },
  {
   "cell_type": "code",
   "execution_count": 23,
   "id": "d15734d3-1201-4b79-b520-389714fc205b",
   "metadata": {},
   "outputs": [],
   "source": [
    "# Q3. What is an iterator in python? Name the method used to initialise the iterator object and the method\n",
    "# used for iteration. Use these methods to print the first five elements of the given list [2, 4, 6, 8, 10, 12, 14,\n",
    "# 16, 18, 20].\n",
    "# Ans:-In Python, an iterator is an object that represents a stream of data.\n",
    "# It allows you to iterate over elements in a sequence one at a time, without having to load the \n",
    "# entire sequence into memory at once. \n",
    "# Iterators are implemented using two methods:\n",
    "#     1>Initialization Method: The iter() function is used to initialize an iterator object. \n",
    "#     It takes an iterable (such as a list) as an argument and returns an iterator object.\n",
    "    \n",
    "#     2>Iteration Method: The next() method is used to iterate over the elements of the iterator. \n",
    "#     It returns the next element in the iterator. \n",
    "#     When all elements have been exhausted, it raises a StopIteration exception.\n",
    "    \n",
    "    \n",
    "#     example\n",
    "iterator = iter([2, 4, 6, 8, 10, 12, 14, 16, 18, 20])\n",
    "    \n",
    "\n"
   ]
  },
  {
   "cell_type": "code",
   "execution_count": 24,
   "id": "c07c6fec-28f7-4401-b24b-901b80593d13",
   "metadata": {},
   "outputs": [
    {
     "data": {
      "text/plain": [
       "2"
      ]
     },
     "execution_count": 24,
     "metadata": {},
     "output_type": "execute_result"
    }
   ],
   "source": [
    "next(iterator)"
   ]
  },
  {
   "cell_type": "code",
   "execution_count": 25,
   "id": "6bd3af82-a057-4c58-8a0e-fa0884b1af8c",
   "metadata": {},
   "outputs": [
    {
     "data": {
      "text/plain": [
       "4"
      ]
     },
     "execution_count": 25,
     "metadata": {},
     "output_type": "execute_result"
    }
   ],
   "source": [
    "next(iterator)"
   ]
  },
  {
   "cell_type": "code",
   "execution_count": 26,
   "id": "610b57a7-f80a-4260-8481-7f991d9a276b",
   "metadata": {},
   "outputs": [
    {
     "data": {
      "text/plain": [
       "6"
      ]
     },
     "execution_count": 26,
     "metadata": {},
     "output_type": "execute_result"
    }
   ],
   "source": [
    "next(iterator)"
   ]
  },
  {
   "cell_type": "code",
   "execution_count": 27,
   "id": "92b3723b-f816-4d91-a4f6-e0b215be411b",
   "metadata": {},
   "outputs": [
    {
     "data": {
      "text/plain": [
       "8"
      ]
     },
     "execution_count": 27,
     "metadata": {},
     "output_type": "execute_result"
    }
   ],
   "source": [
    "next(iterator)"
   ]
  },
  {
   "cell_type": "code",
   "execution_count": 28,
   "id": "6b6f4089-6b4d-4273-960e-81595e3667d2",
   "metadata": {},
   "outputs": [
    {
     "data": {
      "text/plain": [
       "10"
      ]
     },
     "execution_count": 28,
     "metadata": {},
     "output_type": "execute_result"
    }
   ],
   "source": [
    "next(iterator)"
   ]
  },
  {
   "cell_type": "code",
   "execution_count": 29,
   "id": "49598b7b-97eb-4edd-834e-63842128e0d3",
   "metadata": {},
   "outputs": [
    {
     "data": {
      "text/plain": [
       "12"
      ]
     },
     "execution_count": 29,
     "metadata": {},
     "output_type": "execute_result"
    }
   ],
   "source": [
    "next(iterator)"
   ]
  },
  {
   "cell_type": "code",
   "execution_count": 30,
   "id": "57574281-485e-452f-ab3c-4b0082def6bd",
   "metadata": {},
   "outputs": [
    {
     "data": {
      "text/plain": [
       "14"
      ]
     },
     "execution_count": 30,
     "metadata": {},
     "output_type": "execute_result"
    }
   ],
   "source": [
    "next(iterator)"
   ]
  },
  {
   "cell_type": "code",
   "execution_count": 31,
   "id": "60e0f4ea-0d1a-4665-82ce-1cd016732cd9",
   "metadata": {},
   "outputs": [
    {
     "data": {
      "text/plain": [
       "16"
      ]
     },
     "execution_count": 31,
     "metadata": {},
     "output_type": "execute_result"
    }
   ],
   "source": [
    "next(iterator)"
   ]
  },
  {
   "cell_type": "code",
   "execution_count": 32,
   "id": "fd19f348-e293-4a9f-9812-eeb5db0ab0a3",
   "metadata": {},
   "outputs": [],
   "source": [
    "# Q4. What is a generator function in python? Why yield keyword is used? Give an example of a generator\n",
    "# function.\n",
    "# Ans:-A generator function in Python is a special type of function that generates values on-the-fly instead of storing them in memory all at once. \n",
    "# It uses the yield keyword instead of return. When a generator function is called,\n",
    "# it returns a generator object that can be iterated over.\n",
    "\n",
    "# The yield keyword is used in generator functions to yield a value to the caller, suspending the function's state.\n",
    "# Unlike return, which terminates the function and returns a single value, yield temporarily pauses the function \n",
    "# and allows it to resume its execution later, retaining its state. This makes generator functions efficient for \n",
    "# generating large sequences of values without storing them all in memory.\n",
    "\n",
    "# Here's an example of a generator function that generates a sequence of even numbers:\n",
    "\n",
    "# def generate_even_numbers(n):\n",
    "#     num = 0\n",
    "#     while num < n:\n",
    "#         yield num\n",
    "#         num += 2\n",
    "\n",
    "\n"
   ]
  },
  {
   "cell_type": "code",
   "execution_count": 33,
   "id": "b0bba960-24ad-4963-93ba-925a33ed7b41",
   "metadata": {},
   "outputs": [
    {
     "name": "stdout",
     "output_type": "stream",
     "text": [
      "2\n",
      "3\n",
      "5\n",
      "7\n",
      "11\n",
      "13\n",
      "17\n",
      "19\n",
      "23\n",
      "29\n",
      "31\n",
      "37\n",
      "41\n",
      "43\n",
      "47\n",
      "53\n",
      "59\n",
      "61\n",
      "67\n",
      "71\n"
     ]
    }
   ],
   "source": [
    "# Q5. Create a generator function for prime numbers less than 1000. Use the next() method to print the\n",
    "# first 20 prime numbers.\n",
    "# Ans:-Sure, here's a generator function that yields prime numbers less than 1000:\n",
    "\n",
    "\n",
    "def generate_primes():\n",
    "    # Generator function to yield prime numbers less than 1000\n",
    "    for num in range(2, 1000):\n",
    "        if all(num % i != 0 for i in range(2, int(num ** 0.5) + 1)):\n",
    "            yield num\n",
    "\n",
    "# Create a generator object for prime numbers\n",
    "prime_generator = generate_primes()\n",
    "\n",
    "# Print the first 20 prime numbers using next() method\n",
    "for _ in range(20):\n",
    "    print(next(prime_generator))\n"
   ]
  },
  {
   "cell_type": "code",
   "execution_count": 34,
   "id": "0f9b3d99-2538-4698-b456-dead3e524170",
   "metadata": {},
   "outputs": [],
   "source": [
    "# Q6. Write a python program to print the first 10 Fibonacci numbers using a while loop.\n",
    "# Ans:=\n",
    "def fibbo(n):\n",
    "    a,b=0,1;\n",
    "    for i in range(n):\n",
    "        yield a\n",
    "        a,b=b ,a+b"
   ]
  },
  {
   "cell_type": "code",
   "execution_count": 36,
   "id": "e3165735-7989-424a-a82d-e8888d400f10",
   "metadata": {},
   "outputs": [
    {
     "name": "stdout",
     "output_type": "stream",
     "text": [
      "0\n",
      "1\n",
      "1\n",
      "2\n",
      "3\n",
      "5\n",
      "8\n",
      "13\n",
      "21\n",
      "34\n"
     ]
    }
   ],
   "source": [
    "for i in fibbo(10):\n",
    "    print(i)"
   ]
  },
  {
   "cell_type": "code",
   "execution_count": 37,
   "id": "2d6c4bb7-6c81-4678-81e6-b81494b7d04c",
   "metadata": {},
   "outputs": [],
   "source": [
    "# Q7. Write a List Comprehension to iterate through the given string: ‘pwskills’.\n",
    "# Expected output: ['p', 'w', 's', 'k', 'i', 'l', 'l', 's']\n",
    "# Ans:=\n",
    "s=\"pwskills\""
   ]
  },
  {
   "cell_type": "code",
   "execution_count": 40,
   "id": "2f89f6d7-2b28-45bc-95a8-ef2b20ca03b8",
   "metadata": {},
   "outputs": [
    {
     "data": {
      "text/plain": [
       "['P', 'W', 'S', 'K', 'I', 'L', 'L', 'S']"
      ]
     },
     "execution_count": 40,
     "metadata": {},
     "output_type": "execute_result"
    }
   ],
   "source": [
    "list(map(lambda s:s.upper(),s))"
   ]
  },
  {
   "cell_type": "code",
   "execution_count": 43,
   "id": "2ff01bb4-9b67-4aad-840a-2b53a17fae11",
   "metadata": {},
   "outputs": [
    {
     "name": "stdin",
     "output_type": "stream",
     "text": [
      "Enter a number to check if it's a palindrome:  nitin\n"
     ]
    },
    {
     "name": "stdout",
     "output_type": "stream",
     "text": [
      "nitin is a palindrome.\n"
     ]
    }
   ],
   "source": [
    "# Q8. Write a python program to check whether a given number is Palindrome or not using a while loop.\n",
    "# Ans:=\n",
    "def is_palindrome(num):\n",
    "    # Convert the number to a string for comparison\n",
    "    num_str = str(num)\n",
    "    # Initialize variables for index of the first and last digits\n",
    "    start = 0\n",
    "    end = len(num_str) - 1\n",
    "    \n",
    "    # Iterate through the number until the start index is less than the end index\n",
    "    while start < end:\n",
    "        # Compare the digits at start and end positions\n",
    "        if num_str[start] != num_str[end]:\n",
    "            return False  # If digits don't match, it's not a palindrome\n",
    "        # Move to the next pair of digits\n",
    "        start += 1\n",
    "        end -= 1\n",
    "    \n",
    "    return True  # If the loop completes without returning False, it's a palindrome\n",
    "\n",
    "# Test the function\n",
    "num = (input(\"Enter a number to check if it's a palindrome: \"))\n",
    "if is_palindrome(num):\n",
    "    print(num, \"is a palindrome.\")\n",
    "else:\n",
    "    print(num, \"is not a palindrome.\")\n"
   ]
  },
  {
   "cell_type": "code",
   "execution_count": 44,
   "id": "1a2109e5-57f1-4f1e-adcf-d85b48de81ab",
   "metadata": {},
   "outputs": [],
   "source": [
    "# Q9. Write a code to print odd numbers from 1 to 100 using list comprehension.\n",
    "# Ans:-\n",
    "a=range(101)"
   ]
  },
  {
   "cell_type": "code",
   "execution_count": 46,
   "id": "2afbf460-7269-466c-aa17-a685e2d6571b",
   "metadata": {},
   "outputs": [
    {
     "data": {
      "text/plain": [
       "[1,\n",
       " 3,\n",
       " 5,\n",
       " 7,\n",
       " 9,\n",
       " 11,\n",
       " 13,\n",
       " 15,\n",
       " 17,\n",
       " 19,\n",
       " 21,\n",
       " 23,\n",
       " 25,\n",
       " 27,\n",
       " 29,\n",
       " 31,\n",
       " 33,\n",
       " 35,\n",
       " 37,\n",
       " 39,\n",
       " 41,\n",
       " 43,\n",
       " 45,\n",
       " 47,\n",
       " 49,\n",
       " 51,\n",
       " 53,\n",
       " 55,\n",
       " 57,\n",
       " 59,\n",
       " 61,\n",
       " 63,\n",
       " 65,\n",
       " 67,\n",
       " 69,\n",
       " 71,\n",
       " 73,\n",
       " 75,\n",
       " 77,\n",
       " 79,\n",
       " 81,\n",
       " 83,\n",
       " 85,\n",
       " 87,\n",
       " 89,\n",
       " 91,\n",
       " 93,\n",
       " 95,\n",
       " 97,\n",
       " 99]"
      ]
     },
     "execution_count": 46,
     "metadata": {},
     "output_type": "execute_result"
    }
   ],
   "source": [
    "list(filter(lambda x:x%2!=0,a))"
   ]
  },
  {
   "cell_type": "code",
   "execution_count": null,
   "id": "ff88682c-7cf9-4d21-b6cf-3ffa852458ae",
   "metadata": {},
   "outputs": [],
   "source": []
  }
 ],
 "metadata": {
  "kernelspec": {
   "display_name": "Python 3 (ipykernel)",
   "language": "python",
   "name": "python3"
  },
  "language_info": {
   "codemirror_mode": {
    "name": "ipython",
    "version": 3
   },
   "file_extension": ".py",
   "mimetype": "text/x-python",
   "name": "python",
   "nbconvert_exporter": "python",
   "pygments_lexer": "ipython3",
   "version": "3.10.8"
  }
 },
 "nbformat": 4,
 "nbformat_minor": 5
}
