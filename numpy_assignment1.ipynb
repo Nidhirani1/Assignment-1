{
 "cells": [
  {
   "cell_type": "code",
   "execution_count": 1,
   "metadata": {},
   "outputs": [
    {
     "name": "stdout",
     "output_type": "stream",
     "text": [
      "Data type of list_: <class 'list'>\n",
      "Data type of array_list: <U1\n"
     ]
    }
   ],
   "source": [
    "# Q1. Is there any difference in the data type of variables list_ and array_list? If there is then write a code to print the data types of both the variables.\n",
    "# Yes, there is a difference in the data types.\n",
    "\n",
    "# list_ is a regular Python list, which is a collection of objects, and the elements inside it will be of str type.\n",
    "# array_list is a NumPy array, which can have a uniform data type across all its elements.\n",
    "# Here’s how you can print the data types of both variables:\n",
    "\n",
    "\n",
    "import numpy as np\n",
    "\n",
    "list_ = ['1', '2', '3', '4', '5']\n",
    "array_list = np.array(object = list_)\n",
    "\n",
    "# Print data types of both variables\n",
    "print(f\"Data type of list_: {type(list_)}\")\n",
    "print(f\"Data type of array_list: {array_list.dtype}\")"
   ]
  },
  {
   "cell_type": "code",
   "execution_count": 2,
   "metadata": {},
   "outputs": [
    {
     "name": "stdout",
     "output_type": "stream",
     "text": [
      "Data type of each element in list_:\n",
      "1: <class 'str'>\n",
      "2: <class 'str'>\n",
      "3: <class 'str'>\n",
      "4: <class 'str'>\n",
      "5: <class 'str'>\n",
      "\n",
      "Data type of each element in array_list:\n",
      "1: <class 'numpy.str_'>\n",
      "2: <class 'numpy.str_'>\n",
      "3: <class 'numpy.str_'>\n",
      "4: <class 'numpy.str_'>\n",
      "5: <class 'numpy.str_'>\n"
     ]
    }
   ],
   "source": [
    "# Q2. Write a code to print the data type of each and every element of both the variables list_ and array_list.\n",
    "\n",
    "import numpy as np\n",
    "\n",
    "list_ = ['1', '2', '3', '4', '5']\n",
    "array_list = np.array(object = list_)\n",
    "\n",
    "# Data types of each element in list_\n",
    "print(\"Data type of each element in list_:\")\n",
    "for item in list_:\n",
    "    print(f\"{item}: {type(item)}\")\n",
    "\n",
    "# Data types of each element in array_list\n",
    "print(\"\\nData type of each element in array_list:\")\n",
    "for item in array_list:\n",
    "    print(f\"{item}: {type(item)}\")"
   ]
  },
  {
   "cell_type": "code",
   "execution_count": 5,
   "metadata": {},
   "outputs": [
    {
     "name": "stdout",
     "output_type": "stream",
     "text": [
      "Data type of each element in list_:\n",
      "1: <class 'str'>\n",
      "2: <class 'str'>\n",
      "3: <class 'str'>\n",
      "4: <class 'str'>\n",
      "5: <class 'str'>\n",
      "\n",
      "Data type of each element in array_list:\n",
      "1: <class 'numpy.int64'>\n",
      "2: <class 'numpy.int64'>\n",
      "3: <class 'numpy.int64'>\n",
      "4: <class 'numpy.int64'>\n",
      "5: <class 'numpy.int64'>\n"
     ]
    }
   ],
   "source": [
    "# Q3. Considering the following changes in the variable, array_list:\n",
    "\n",
    "# array_list = np.array(object = list_, dtype = int)\n",
    "# Will there be any difference in the data type of the elements present in both the variables list_ and array_list? If so then print the data types of each and every element present in both the variables, list_ and array_list.\n",
    "\n",
    "# Yes, after setting dtype=int, the data type of elements in array_list will be int, while list_ remains unchanged as a list of strings.\n",
    "\n",
    "import numpy as np\n",
    "\n",
    "list_ = ['1', '2', '3', '4', '5']\n",
    "array_list = np.array(object = list_, dtype = int)\n",
    "\n",
    "# Data types of each element in list_\n",
    "print(\"Data type of each element in list_:\")\n",
    "for item in list_:\n",
    "    print(f\"{item}: {type(item)}\")\n",
    "\n",
    "# Data types of each element in array_list\n",
    "print(\"\\nData type of each element in array_list:\")\n",
    "for item in array_list:\n",
    "    print(f\"{item}: {type(item)}\")"
   ]
  },
  {
   "cell_type": "code",
   "execution_count": 6,
   "metadata": {},
   "outputs": [
    {
     "name": "stdout",
     "output_type": "stream",
     "text": [
      "Shape of num_array: (2, 3)\n",
      "Size of num_array: 6\n"
     ]
    }
   ],
   "source": [
    "# Q4. Write a code to find the following characteristics of the variable num_array:\n",
    "# (i) shape (ii) size\n",
    "\n",
    "\n",
    "import numpy as np\n",
    "\n",
    "num_list = [[1, 2, 3], [4, 5, 6]]\n",
    "num_array = np.array(object = num_list)\n",
    "\n",
    "# Find shape and size of num_array\n",
    "print(f\"Shape of num_array: {num_array.shape}\")\n",
    "print(f\"Size of num_array: {num_array.size}\")"
   ]
  },
  {
   "cell_type": "code",
   "execution_count": 7,
   "metadata": {},
   "outputs": [
    {
     "name": "stdout",
     "output_type": "stream",
     "text": [
      "3x3 matrix of zeros:\n",
      "[[0. 0. 0.]\n",
      " [0. 0. 0.]\n",
      " [0. 0. 0.]]\n"
     ]
    }
   ],
   "source": [
    "# Q5. Write a code to create a NumPy array of a 3x3 matrix containing zeros only, using a NumPy array creation function.\n",
    "# [Hint: The size of the array will be 9, and the shape will be (3, 3).]\n",
    "\n",
    "\n",
    "import numpy as np\n",
    "\n",
    "# Create a 3x3 matrix of zeros\n",
    "zero_matrix = np.zeros((3, 3))\n",
    "\n",
    "print(f\"3x3 matrix of zeros:\\n{zero_matrix}\")"
   ]
  },
  {
   "cell_type": "code",
   "execution_count": 8,
   "metadata": {},
   "outputs": [
    {
     "name": "stdout",
     "output_type": "stream",
     "text": [
      "5x5 Identity Matrix:\n",
      "[[1. 0. 0. 0. 0.]\n",
      " [0. 1. 0. 0. 0.]\n",
      " [0. 0. 1. 0. 0.]\n",
      " [0. 0. 0. 1. 0.]\n",
      " [0. 0. 0. 0. 1.]]\n"
     ]
    }
   ],
   "source": [
    "# Q6. Create an identity matrix of shape (5, 5) using NumPy functions.\n",
    "# [Hint: An identity matrix is a matrix containing 1s diagonally, and other elements will be 0.]\n",
    "\n",
    "\n",
    "import numpy as np\n",
    "\n",
    "# Create a 5x5 identity matrix\n",
    "identity_matrix = np.eye(5)\n",
    "\n",
    "print(f\"5x5 Identity Matrix:\\n{identity_matrix}\")"
   ]
  },
  {
   "cell_type": "code",
   "execution_count": null,
   "metadata": {},
   "outputs": [],
   "source": []
  }
 ],
 "metadata": {
  "kernelspec": {
   "display_name": "Python 3",
   "language": "python",
   "name": "python3"
  },
  "language_info": {
   "codemirror_mode": {
    "name": "ipython",
    "version": 3
   },
   "file_extension": ".py",
   "mimetype": "text/x-python",
   "name": "python",
   "nbconvert_exporter": "python",
   "pygments_lexer": "ipython3",
   "version": "3.12.1"
  }
 },
 "nbformat": 4,
 "nbformat_minor": 2
}
