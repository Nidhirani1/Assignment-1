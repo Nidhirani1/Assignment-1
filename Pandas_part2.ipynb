{
 "cells": [
  {
   "cell_type": "code",
   "execution_count": 1,
   "metadata": {},
   "outputs": [],
   "source": [
    "# Q1. List any five functions of the pandas library with execution.\n",
    "# .head() - Returns the first few rows of the DataFrame. Example:\n",
    "\n",
    "# python\n",
    "# Copy\n",
    "# Edit\n",
    "# import pandas as pd\n",
    "# df = pd.DataFrame({'A': [1, 2, 3, 4], 'B': [5, 6, 7, 8]})\n",
    "# print(df.head())\n",
    "# .tail() - Returns the last few rows of the DataFrame. Example:\n",
    "\n",
    "\n",
    "# print(df.tail())\n",
    "# .describe() - Provides summary statistics of numerical columns. Example:\n",
    "\n",
    "\n",
    "# print(df.describe())\n",
    "# .sum() - Returns the sum of values for each column. Example:\n",
    "\n",
    "\n",
    "# print(df.sum())\n",
    "# .groupby() - Groups data based on one or more columns. Example:"
   ]
  },
  {
   "cell_type": "code",
   "execution_count": 2,
   "metadata": {},
   "outputs": [],
   "source": [
    "# Q2. Given a Pandas DataFrame df with columns 'A', 'B', and 'C', write a Python function to re-index the DataFrame with a new index that starts from 1 and increments by 2 for each row.\n",
    "\n",
    "# import pandas as pd\n",
    "\n",
    "# def reindex_dataframe(df):\n",
    "#     df.index = range(1, len(df) * 2, 2)\n",
    "#     return df\n",
    "\n",
    "# # Example usage\n",
    "# df = pd.DataFrame({'A': [1, 2, 3], 'B': [4, 5, 6], 'C': [7, 8, 9]})\n",
    "# print(reindex_dataframe(df))"
   ]
  },
  {
   "cell_type": "code",
   "execution_count": 3,
   "metadata": {},
   "outputs": [],
   "source": [
    "# Q3. Write a Python function that calculates the sum of the first three values in the 'Values' column.\n",
    "\n",
    "# import pandas as pd\n",
    "\n",
    "# def sum_first_three(df):\n",
    "#     total = df['Values'].iloc[:3].sum()\n",
    "#     print(f\"The sum of the first three values is: {total}\")\n",
    "\n",
    "# # Example usage\n",
    "# df = pd.DataFrame({'Values': [10, 20, 30, 40, 50]})\n",
    "# sum_first_three(df)"
   ]
  },
  {
   "cell_type": "code",
   "execution_count": 4,
   "metadata": {},
   "outputs": [],
   "source": [
    "# Q4. Write a Python function to create a new column 'Word_Count' that contains the number of words in each row of the 'Text' column.\n",
    "\n",
    "# import pandas as pd\n",
    "\n",
    "# def count_words(df):\n",
    "#     df['Word_Count'] = df['Text'].apply(lambda x: len(x.split()))\n",
    "#     return df\n",
    "\n",
    "# # Example usage\n",
    "# df = pd.DataFrame({'Text': ['hello world', 'this is a test', 'pandas is great']})\n",
    "# print(count_words(df))\n"
   ]
  },
  {
   "cell_type": "code",
   "execution_count": 5,
   "metadata": {},
   "outputs": [],
   "source": [
    "# Q5. How are DataFrame.size() and DataFrame.shape() different?\n",
    "# DataFrame.size() returns the total number of elements in the DataFrame, i.e., rows × columns.\n",
    "# DataFrame.shape() returns a tuple representing the dimensions of the DataFrame (rows, columns).\n",
    "# Example:\n",
    "\n",
    "\n",
    "# df = pd.DataFrame({'A': [1, 2], 'B': [3, 4]})\n",
    "# print(df.size)   # Output: 4\n",
    "# print(df.shape)  # Output: (2, 2)"
   ]
  },
  {
   "cell_type": "code",
   "execution_count": 6,
   "metadata": {},
   "outputs": [],
   "source": [
    "# Q6. Which function of pandas do we use to read an excel file?\n",
    "# The function to read an Excel file is pd.read_excel().\n",
    "\n",
    "# Example:\n",
    "\n",
    "\n",
    "# import pandas as pd\n",
    "# df = pd.read_excel('file.xlsx')\n"
   ]
  },
  {
   "cell_type": "code",
   "execution_count": 7,
   "metadata": {},
   "outputs": [],
   "source": [
    "# Q7. Write a Python function that creates a new column 'Username' containing only the username part of each email address.\n",
    "\n",
    "# import pandas as pd\n",
    "\n",
    "# def extract_username(df):\n",
    "#     df['Username'] = df['Email'].apply(lambda x: x.split('@')[0])\n",
    "#     return df\n",
    "\n",
    "# # Example usage\n",
    "# df = pd.DataFrame({'Email': ['john.doe@example.com', 'alice.smith@gmail.com']})\n",
    "# print(extract_username(df))"
   ]
  },
  {
   "cell_type": "code",
   "execution_count": 8,
   "metadata": {},
   "outputs": [],
   "source": [
    "# Q8. Write a Python function that selects all rows where the value in column 'A' is greater than 5 and the value in column 'B' is less than 10.\n",
    "\n",
    "# # import pandas as pd\n",
    "\n",
    "# # def filter_rows(df):\n",
    "# #     return df[(df['A'] > 5) & (df['B'] < 10)]\n",
    "\n",
    "# # # Example usage\n",
    "# # df = pd.DataFrame({'A': [3, 8, 6, 2, 9], 'B': [5, 2, 9, 3, 1], 'C': [1, 7, 4, 5, 2]})\n",
    "# # print(filter_rows(df))\n"
   ]
  },
  {
   "cell_type": "code",
   "execution_count": 9,
   "metadata": {},
   "outputs": [],
   "source": [
    "# Q9. Write a Python function to calculate the mean, median, and standard deviation of the 'Values' column.\n",
    "\n",
    "# import pandas as pd\n",
    "\n",
    "# def stats_of_values(df):\n",
    "#     mean = df['Values'].mean()\n",
    "#     median = df['Values'].median()\n",
    "#     std = df['Values'].std()\n",
    "#     print(f\"Mean: {mean}, Median: {median}, Std: {std}\")\n",
    "\n",
    "# # Example usage\n",
    "# df = pd.DataFrame({'Values': [10, 20, 30, 40, 50]})\n",
    "# stats_of_values(df)"
   ]
  },
  {
   "cell_type": "code",
   "execution_count": 10,
   "metadata": {},
   "outputs": [],
   "source": [
    "# Q10. Write a Python function to create a new column 'MovingAverage' that contains the moving average of the sales for the past 7 days.\n",
    "\n",
    "# import pandas as pd\n",
    "\n",
    "# def moving_average(df):\n",
    "#     df['MovingAverage'] = df['Sales'].rolling(window=7).mean()\n",
    "#     return df\n",
    "\n",
    "# # Example usage\n",
    "# df = pd.DataFrame({'Sales': [100, 200, 300, 400, 500, 600, 700, 800, 900, 1000]})\n",
    "# print(moving_average(df))"
   ]
  },
  {
   "cell_type": "code",
   "execution_count": 11,
   "metadata": {},
   "outputs": [],
   "source": [
    "# Q11. Write a Python function that creates a new column 'Weekday' containing the weekday name.\n",
    "\n",
    "# import pandas as pd\n",
    "\n",
    "# def add_weekday(df):\n",
    "#     df['Weekday'] = pd.to_datetime(df['Date']).dt.day_name()\n",
    "#     return df\n",
    "\n",
    "# # Example usage\n",
    "# df = pd.DataFrame({'Date': ['2023-01-01', '2023-01-02', '2023-01-03', '2023-01-04', '2023-01-05']})\n",
    "# print(add_weekday(df))"
   ]
  },
  {
   "cell_type": "code",
   "execution_count": 12,
   "metadata": {},
   "outputs": [],
   "source": [
    "# Q12. Write a Python function to select all rows where the date is between '2023-01-01' and '2023-01-31'.\n",
    "\n",
    "# import pandas as pd\n",
    "\n",
    "# def filter_date_range(df):\n",
    "#     df['Date'] = pd.to_datetime(df['Date'])\n",
    "#     return df[(df['Date'] >= '2023-01-01') & (df['Date'] <= '2023-01-31')]\n",
    "\n",
    "# # Example usage\n",
    "# df = pd.DataFrame({'Date': ['2023-01-01', '2023-02-01', '2023-01-15']})\n",
    "# print(filter_date_range(df))"
   ]
  },
  {
   "cell_type": "code",
   "execution_count": 13,
   "metadata": {},
   "outputs": [],
   "source": [
    "# Q13. To use the basic functions of pandas, what is the first and foremost necessary library that needs to be imported?\n",
    "\n",
    "# The first and foremost necessary library is import pandas as pd."
   ]
  },
  {
   "cell_type": "code",
   "execution_count": null,
   "metadata": {},
   "outputs": [],
   "source": []
  }
 ],
 "metadata": {
  "kernelspec": {
   "display_name": "Python 3",
   "language": "python",
   "name": "python3"
  },
  "language_info": {
   "codemirror_mode": {
    "name": "ipython",
    "version": 3
   },
   "file_extension": ".py",
   "mimetype": "text/x-python",
   "name": "python",
   "nbconvert_exporter": "python",
   "pygments_lexer": "ipython3",
   "version": "3.12.1"
  }
 },
 "nbformat": 4,
 "nbformat_minor": 2
}
